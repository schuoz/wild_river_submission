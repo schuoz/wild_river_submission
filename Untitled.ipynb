{
 "cells": [
  {
   "cell_type": "code",
   "execution_count": 5,
   "metadata": {},
   "outputs": [
    {
     "ename": "ModuleNotFoundError",
     "evalue": "No module named 'osgeo'",
     "output_type": "error",
     "traceback": [
      "\u001b[0;31m---------------------------------------------------------------------------\u001b[0m",
      "\u001b[0;31mModuleNotFoundError\u001b[0m                       Traceback (most recent call last)",
      "\u001b[0;32m<ipython-input-5-af4f61f566a2>\u001b[0m in \u001b[0;36m<module>\u001b[0;34m\u001b[0m\n\u001b[0;32m----> 1\u001b[0;31m \u001b[0;32mfrom\u001b[0m \u001b[0mosgeo\u001b[0m \u001b[0;32mimport\u001b[0m \u001b[0mgdal\u001b[0m\u001b[0;34m,\u001b[0m \u001b[0mosr\u001b[0m\u001b[0;34m,\u001b[0m \u001b[0mogr\u001b[0m\u001b[0;34m,\u001b[0m \u001b[0mgdalconst\u001b[0m\u001b[0;34m\u001b[0m\u001b[0;34m\u001b[0m\u001b[0m\n\u001b[0m\u001b[1;32m      2\u001b[0m \u001b[0;32mimport\u001b[0m \u001b[0mos\u001b[0m\u001b[0;34m\u001b[0m\u001b[0;34m\u001b[0m\u001b[0m\n\u001b[1;32m      3\u001b[0m \u001b[0;32mimport\u001b[0m \u001b[0msys\u001b[0m\u001b[0;34m\u001b[0m\u001b[0;34m\u001b[0m\u001b[0m\n\u001b[1;32m      4\u001b[0m \u001b[0;32mimport\u001b[0m \u001b[0mnumpy\u001b[0m \u001b[0;32mas\u001b[0m \u001b[0mnp\u001b[0m\u001b[0;34m\u001b[0m\u001b[0;34m\u001b[0m\u001b[0m\n\u001b[1;32m      5\u001b[0m \u001b[0;32mimport\u001b[0m \u001b[0mtorch\u001b[0m\u001b[0;34m\u001b[0m\u001b[0;34m\u001b[0m\u001b[0m\n",
      "\u001b[0;31mModuleNotFoundError\u001b[0m: No module named 'osgeo'"
     ]
    }
   ],
   "source": [
    "from osgeo import gdal, osr, ogr, gdalconst\n",
    "import os\n",
    "import sys\n",
    "import numpy as np\n",
    "import torch\n",
    "from torch.utils.data import DataLoader\n",
    "from tqdm import tqdm\n",
    "import time"
   ]
  },
  {
   "cell_type": "code",
   "execution_count": 5,
   "metadata": {},
   "outputs": [
    {
     "name": "stdout",
     "output_type": "stream",
     "text": [
      "DEVICE:  cuda:0 NVIDIA TITAN RTX\n"
     ]
    }
   ],
   "source": [
    "DEVICE = torch.device(\"cuda:0\")\n",
    "print('DEVICE: ', DEVICE, torch.cuda.get_device_name(0))\n",
    "gdal.UseExceptions()"
   ]
  },
  {
   "cell_type": "code",
   "execution_count": 6,
   "metadata": {},
   "outputs": [
    {
     "name": "stdout",
     "output_type": "stream",
     "text": [
      "\u001b[33mWARNING: The directory '/.cache/pip' or its parent directory is not owned or is not writable by the current user. The cache has been disabled. Check the permissions and owner of that directory. If executing pip with sudo, you may want sudo's -H flag.\u001b[0m\n",
      "Defaulting to user installation because normal site-packages is not writeable\n",
      "Collecting gdal\n",
      "  Downloading GDAL-3.8.5.tar.gz (802 kB)\n",
      "\u001b[K     |████████████████████████████████| 802 kB 7.7 MB/s eta 0:00:01\n",
      "\u001b[31m    ERROR: Command errored out with exit status 1:\n",
      "     command: /usr/bin/python3 -c 'import sys, setuptools, tokenize; sys.argv[0] = '\"'\"'/tmp/pip-install-kuen3bys/gdal/setup.py'\"'\"'; __file__='\"'\"'/tmp/pip-install-kuen3bys/gdal/setup.py'\"'\"';f=getattr(tokenize, '\"'\"'open'\"'\"', open)(__file__);code=f.read().replace('\"'\"'\\r\\n'\"'\"', '\"'\"'\\n'\"'\"');f.close();exec(compile(code, __file__, '\"'\"'exec'\"'\"'))' egg_info --egg-base /tmp/pip-pip-egg-info-ee74q5xg\n",
      "         cwd: /tmp/pip-install-kuen3bys/gdal/\n",
      "    Complete output (78 lines):\n",
      "    running egg_info\n",
      "    creating /tmp/pip-pip-egg-info-ee74q5xg/GDAL.egg-info\n",
      "    writing /tmp/pip-pip-egg-info-ee74q5xg/GDAL.egg-info/PKG-INFO\n",
      "    writing dependency_links to /tmp/pip-pip-egg-info-ee74q5xg/GDAL.egg-info/dependency_links.txt\n",
      "    writing requirements to /tmp/pip-pip-egg-info-ee74q5xg/GDAL.egg-info/requires.txt\n",
      "    writing top-level names to /tmp/pip-pip-egg-info-ee74q5xg/GDAL.egg-info/top_level.txt\n",
      "    writing manifest file '/tmp/pip-pip-egg-info-ee74q5xg/GDAL.egg-info/SOURCES.txt'\n",
      "    Traceback (most recent call last):\n",
      "      File \"/tmp/pip-install-kuen3bys/gdal/setup.py\", line 89, in fetch_config\n",
      "        p = subprocess.Popen([command, args], stdout=subprocess.PIPE)\n",
      "      File \"/usr/lib/python3.6/subprocess.py\", line 729, in __init__\n",
      "        restore_signals, start_new_session)\n",
      "      File \"/usr/lib/python3.6/subprocess.py\", line 1364, in _execute_child\n",
      "        raise child_exception_type(errno_num, err_msg, err_filename)\n",
      "    FileNotFoundError: [Errno 2] No such file or directory: 'gdal-config': 'gdal-config'\n",
      "    \n",
      "    During handling of the above exception, another exception occurred:\n",
      "    \n",
      "    Traceback (most recent call last):\n",
      "      File \"/tmp/pip-install-kuen3bys/gdal/setup.py\", line 190, in get_gdal_config\n",
      "        return fetch_config(option, gdal_config=self.gdal_config)\n",
      "      File \"/tmp/pip-install-kuen3bys/gdal/setup.py\", line 92, in fetch_config\n",
      "        raise gdal_config_error(e)\n",
      "    __main__.gdal_config_error: [Errno 2] No such file or directory: 'gdal-config': 'gdal-config'\n",
      "    \n",
      "    During handling of the above exception, another exception occurred:\n",
      "    \n",
      "    Traceback (most recent call last):\n",
      "      File \"<string>\", line 1, in <module>\n",
      "      File \"/tmp/pip-install-kuen3bys/gdal/setup.py\", line 382, in <module>\n",
      "        exclude_package_data = exclude_package_data,\n",
      "      File \"/usr/local/lib/python3.6/dist-packages/setuptools/__init__.py\", line 153, in setup\n",
      "        return distutils.core.setup(**attrs)\n",
      "      File \"/usr/lib/python3.6/distutils/core.py\", line 148, in setup\n",
      "        dist.run_commands()\n",
      "      File \"/usr/lib/python3.6/distutils/dist.py\", line 955, in run_commands\n",
      "        self.run_command(cmd)\n",
      "      File \"/usr/lib/python3.6/distutils/dist.py\", line 974, in run_command\n",
      "        cmd_obj.run()\n",
      "      File \"/usr/local/lib/python3.6/dist-packages/setuptools/command/egg_info.py\", line 299, in run\n",
      "        self.find_sources()\n",
      "      File \"/usr/local/lib/python3.6/dist-packages/setuptools/command/egg_info.py\", line 306, in find_sources\n",
      "        mm.run()\n",
      "      File \"/usr/local/lib/python3.6/dist-packages/setuptools/command/egg_info.py\", line 541, in run\n",
      "        self.add_defaults()\n",
      "      File \"/usr/local/lib/python3.6/dist-packages/setuptools/command/egg_info.py\", line 578, in add_defaults\n",
      "        sdist.add_defaults(self)\n",
      "      File \"/usr/local/lib/python3.6/dist-packages/setuptools/command/py36compat.py\", line 34, in add_defaults\n",
      "        self._add_defaults_ext()\n",
      "      File \"/usr/local/lib/python3.6/dist-packages/setuptools/command/py36compat.py\", line 117, in _add_defaults_ext\n",
      "        build_ext = self.get_finalized_command('build_ext')\n",
      "      File \"/usr/lib/python3.6/distutils/cmd.py\", line 299, in get_finalized_command\n",
      "        cmd_obj.ensure_finalized()\n",
      "      File \"/usr/lib/python3.6/distutils/cmd.py\", line 107, in ensure_finalized\n",
      "        self.finalize_options()\n",
      "      File \"/tmp/pip-install-kuen3bys/gdal/setup.py\", line 266, in finalize_options\n",
      "        gdaldir = self.get_gdal_config('prefix')\n",
      "      File \"/tmp/pip-install-kuen3bys/gdal/setup.py\", line 196, in get_gdal_config\n",
      "        raise gdal_config_error(traceback_string + '\\n' + msg)\n",
      "    __main__.gdal_config_error: Traceback (most recent call last):\n",
      "      File \"/tmp/pip-install-kuen3bys/gdal/setup.py\", line 89, in fetch_config\n",
      "        p = subprocess.Popen([command, args], stdout=subprocess.PIPE)\n",
      "      File \"/usr/lib/python3.6/subprocess.py\", line 729, in __init__\n",
      "        restore_signals, start_new_session)\n",
      "      File \"/usr/lib/python3.6/subprocess.py\", line 1364, in _execute_child\n",
      "        raise child_exception_type(errno_num, err_msg, err_filename)\n",
      "    FileNotFoundError: [Errno 2] No such file or directory: 'gdal-config': 'gdal-config'\n",
      "    \n",
      "    During handling of the above exception, another exception occurred:\n",
      "    \n",
      "    Traceback (most recent call last):\n",
      "      File \"/tmp/pip-install-kuen3bys/gdal/setup.py\", line 190, in get_gdal_config\n",
      "        return fetch_config(option, gdal_config=self.gdal_config)\n",
      "      File \"/tmp/pip-install-kuen3bys/gdal/setup.py\", line 92, in fetch_config\n",
      "        raise gdal_config_error(e)\n",
      "    gdal_config_error: [Errno 2] No such file or directory: 'gdal-config': 'gdal-config'\n",
      "    \n",
      "    Could not find gdal-config. Make sure you have installed the GDAL native library and development headers.\n",
      "    ----------------------------------------\u001b[0m\n",
      "\u001b[31mERROR: Command errored out with exit status 1: python setup.py egg_info Check the logs for full command output.\u001b[0m\n",
      "\u001b[33mWARNING: You are using pip version 20.2.4; however, version 21.3.1 is available.\n",
      "You should consider upgrading via the '/usr/bin/python3 -m pip install --upgrade pip' command.\u001b[0m\n",
      "\u001b[?25h"
     ]
    }
   ],
   "source": [
    "! pip install gdal"
   ]
  },
  {
   "cell_type": "code",
   "execution_count": null,
   "metadata": {},
   "outputs": [],
   "source": []
  }
 ],
 "metadata": {
  "kernelspec": {
   "display_name": "Python 3",
   "language": "python",
   "name": "python3"
  },
  "language_info": {
   "codemirror_mode": {
    "name": "ipython",
    "version": 3
   },
   "file_extension": ".py",
   "mimetype": "text/x-python",
   "name": "python",
   "nbconvert_exporter": "python",
   "pygments_lexer": "ipython3",
   "version": "3.6.9"
  }
 },
 "nbformat": 4,
 "nbformat_minor": 2
}
