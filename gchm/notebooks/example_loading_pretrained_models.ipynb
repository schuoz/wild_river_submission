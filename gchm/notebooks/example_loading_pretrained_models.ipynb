{
 "cells": [
  {
   "cell_type": "markdown",
   "id": "0d0ed4a9",
   "metadata": {},
   "source": [
    "# Example how to load the model with pretrained weights"
   ]
  },
  {
   "cell_type": "code",
   "execution_count": 1,
   "id": "2c46a6b9",
   "metadata": {},
   "outputs": [],
   "source": [
    "from gchm.models.xception_sentinel2 import xceptionS2_08blocks_256"
   ]
  },
  {
   "cell_type": "markdown",
   "id": "8a53cad5",
   "metadata": {},
   "source": [
    "## Let's print the doc string\n",
    "Please have a look at the choices for the argument `model_weights` .\n"
   ]
  },
  {
   "cell_type": "code",
   "execution_count": 2,
   "id": "65acbf46",
   "metadata": {},
   "outputs": [
    {
     "name": "stdout",
     "output_type": "stream",
     "text": [
      "\n",
      "    The model used in 'A high-resolution canopy height model of the Earth.'\n",
      "    It is a smaller version (with only 8 sepconv blocks and 256 sepconv filters) of the model described in:\n",
      "    'Country-wide high-resolution vegetation height mapping with Sentinel-2' <https://arxiv.org/abs/1904.13270>\n",
      "\n",
      "    Args:\n",
      "        in_channels (int): Number of channels of the input. (12 sentinel-2 bands + 3 lat-lon-encoding) = 15 channels)\n",
      "        out_channels (int): Dimension of the pixel-wise output.\n",
      "        returns (string): Key specifying the return. Choices: ['targets', 'variances_exp', 'variances']\n",
      "        model_weights (string): This can either be set to the checkpoint path \".pt\" or to one of the options below.\n",
      "\n",
      "    Model weights choices:\n",
      "        None: Randomly initialize the model weights.\n",
      "        Path: Path to a pretrained checkpoint file. (E.g. './trained_models/GLOBAL_GEDI_2019_2020/model_0/FT_Lm_SRCB/checkpoint.pt')\n",
      "        'GLOBAL_GEDI_MODEL_0': This will download the pretrained models and load the fine-tuned model with id 0\n",
      "        'GLOBAL_GEDI_MODEL_1': This will download the pretrained models and load the fine-tuned model with id 1.\n",
      "        'GLOBAL_GEDI_MODEL_2': This will download the pretrained models and load the fine-tuned model with id 2.\n",
      "        'GLOBAL_GEDI_MODEL_3': This will download the pretrained models and load the fine-tuned model with id 3.\n",
      "        'GLOBAL_GEDI_MODEL_4': This will download the pretrained models and load the fine-tuned model with id 4.\n",
      "\n",
      "    \n"
     ]
    }
   ],
   "source": [
    "print(xceptionS2_08blocks_256.__doc__)"
   ]
  },
  {
   "cell_type": "markdown",
   "id": "897be4ec",
   "metadata": {},
   "source": [
    "## Creating the model with randomly initialized weights\n",
    "\n",
    "By default the model weights will be randomly initialized."
   ]
  },
  {
   "cell_type": "code",
   "execution_count": 3,
   "id": "7d172fea",
   "metadata": {
    "scrolled": true
   },
   "outputs": [],
   "source": [
    "model = xceptionS2_08blocks_256()\n"
   ]
  },
  {
   "cell_type": "markdown",
   "id": "0aaec871",
   "metadata": {},
   "source": [
    "## Loading pretrained weights\n",
    "\n",
    "There are two ways to load pretrained model weights. \n",
    "\n",
    "1. Automatically download the pretrained weights by setting the given keys.\n",
    "2. Set the path to a given checkpoint.\n"
   ]
  },
  {
   "cell_type": "markdown",
   "id": "3bc32ae7",
   "metadata": {},
   "source": [
    "### Automatically download the pretrained weights\n",
    "\n",
    "As described above, setting `model_weights=\"GLOBAL_GEDI_MODEL_0\"` will download and extract the pretrained models into `download_dir`. \n",
    "\n",
    "The download is skipped, if the pretrained weights were already downloaded.\n"
   ]
  },
  {
   "cell_type": "code",
   "execution_count": 4,
   "id": "f4595701",
   "metadata": {
    "scrolled": false
   },
   "outputs": [
    {
     "name": "stdout",
     "output_type": "stream",
     "text": [
      "model_weights set to:  GLOBAL_GEDI_MODEL_0\n",
      "downloading pretrained models...\n"
     ]
    },
    {
     "name": "stderr",
     "output_type": "stream",
     "text": [
      "100%|███████████████████████████████████████████████████████████████████████| 148M/148M [00:12<00:00, 12.1MB/s]\n"
     ]
    },
    {
     "name": "stdout",
     "output_type": "stream",
     "text": [
      "unzipping...\n",
      "Archive:  ./trained_models/trained_models_GLOBAL_GEDI_2019_2020.zip\n",
      "   creating: ./trained_models/GLOBAL_GEDI_2019_2020/\n",
      "   creating: ./trained_models/GLOBAL_GEDI_2019_2020/model_0/\n",
      "   creating: ./trained_models/GLOBAL_GEDI_2019_2020/model_0/FT_Lm_SRCB/\n",
      "  inflating: ./trained_models/GLOBAL_GEDI_2019_2020/model_0/FT_Lm_SRCB/args.json  \n",
      "  inflating: ./trained_models/GLOBAL_GEDI_2019_2020/model_0/FT_Lm_SRCB/checkpoint.pt  \n",
      "  inflating: ./trained_models/GLOBAL_GEDI_2019_2020/model_0/FT_Lm_SRCB/train_input_mean.npy  \n",
      "  inflating: ./trained_models/GLOBAL_GEDI_2019_2020/model_0/FT_Lm_SRCB/train_input_std.npy  \n",
      "  inflating: ./trained_models/GLOBAL_GEDI_2019_2020/model_0/FT_Lm_SRCB/train_target_mean.npy  \n",
      "  inflating: ./trained_models/GLOBAL_GEDI_2019_2020/model_0/FT_Lm_SRCB/train_target_std.npy  \n",
      "  inflating: ./trained_models/GLOBAL_GEDI_2019_2020/model_0/args.json  \n",
      "  inflating: ./trained_models/GLOBAL_GEDI_2019_2020/model_0/checkpoint.pt  \n",
      "  inflating: ./trained_models/GLOBAL_GEDI_2019_2020/model_0/train_input_mean.npy  \n",
      "  inflating: ./trained_models/GLOBAL_GEDI_2019_2020/model_0/train_input_std.npy  \n",
      "  inflating: ./trained_models/GLOBAL_GEDI_2019_2020/model_0/train_target_mean.npy  \n",
      "  inflating: ./trained_models/GLOBAL_GEDI_2019_2020/model_0/train_target_std.npy  \n",
      "   creating: ./trained_models/GLOBAL_GEDI_2019_2020/model_1/\n",
      "   creating: ./trained_models/GLOBAL_GEDI_2019_2020/model_1/FT_Lm_SRCB/\n",
      "  inflating: ./trained_models/GLOBAL_GEDI_2019_2020/model_1/FT_Lm_SRCB/args.json  \n",
      "  inflating: ./trained_models/GLOBAL_GEDI_2019_2020/model_1/FT_Lm_SRCB/checkpoint.pt  \n",
      "  inflating: ./trained_models/GLOBAL_GEDI_2019_2020/model_1/FT_Lm_SRCB/train_input_mean.npy  \n",
      "  inflating: ./trained_models/GLOBAL_GEDI_2019_2020/model_1/FT_Lm_SRCB/train_input_std.npy  \n",
      "  inflating: ./trained_models/GLOBAL_GEDI_2019_2020/model_1/FT_Lm_SRCB/train_target_mean.npy  \n",
      "  inflating: ./trained_models/GLOBAL_GEDI_2019_2020/model_1/FT_Lm_SRCB/train_target_std.npy  \n",
      "  inflating: ./trained_models/GLOBAL_GEDI_2019_2020/model_1/args.json  \n",
      "  inflating: ./trained_models/GLOBAL_GEDI_2019_2020/model_1/checkpoint.pt  \n",
      "  inflating: ./trained_models/GLOBAL_GEDI_2019_2020/model_1/train_input_mean.npy  \n",
      "  inflating: ./trained_models/GLOBAL_GEDI_2019_2020/model_1/train_input_std.npy  \n",
      "  inflating: ./trained_models/GLOBAL_GEDI_2019_2020/model_1/train_target_mean.npy  \n",
      "  inflating: ./trained_models/GLOBAL_GEDI_2019_2020/model_1/train_target_std.npy  \n",
      "   creating: ./trained_models/GLOBAL_GEDI_2019_2020/model_2/\n",
      "   creating: ./trained_models/GLOBAL_GEDI_2019_2020/model_2/FT_Lm_SRCB/\n",
      "  inflating: ./trained_models/GLOBAL_GEDI_2019_2020/model_2/FT_Lm_SRCB/args.json  \n",
      "  inflating: ./trained_models/GLOBAL_GEDI_2019_2020/model_2/FT_Lm_SRCB/checkpoint.pt  \n",
      "  inflating: ./trained_models/GLOBAL_GEDI_2019_2020/model_2/FT_Lm_SRCB/train_input_mean.npy  \n",
      "  inflating: ./trained_models/GLOBAL_GEDI_2019_2020/model_2/FT_Lm_SRCB/train_input_std.npy  \n",
      "  inflating: ./trained_models/GLOBAL_GEDI_2019_2020/model_2/FT_Lm_SRCB/train_target_mean.npy  \n",
      "  inflating: ./trained_models/GLOBAL_GEDI_2019_2020/model_2/FT_Lm_SRCB/train_target_std.npy  \n",
      "  inflating: ./trained_models/GLOBAL_GEDI_2019_2020/model_2/args.json  \n",
      "  inflating: ./trained_models/GLOBAL_GEDI_2019_2020/model_2/checkpoint.pt  \n",
      "  inflating: ./trained_models/GLOBAL_GEDI_2019_2020/model_2/train_input_mean.npy  \n",
      "  inflating: ./trained_models/GLOBAL_GEDI_2019_2020/model_2/train_input_std.npy  \n",
      "  inflating: ./trained_models/GLOBAL_GEDI_2019_2020/model_2/train_target_mean.npy  \n",
      "  inflating: ./trained_models/GLOBAL_GEDI_2019_2020/model_2/train_target_std.npy  \n",
      "   creating: ./trained_models/GLOBAL_GEDI_2019_2020/model_3/\n",
      "   creating: ./trained_models/GLOBAL_GEDI_2019_2020/model_3/FT_Lm_SRCB/\n",
      "  inflating: ./trained_models/GLOBAL_GEDI_2019_2020/model_3/FT_Lm_SRCB/args.json  \n",
      "  inflating: ./trained_models/GLOBAL_GEDI_2019_2020/model_3/FT_Lm_SRCB/checkpoint.pt  \n",
      "  inflating: ./trained_models/GLOBAL_GEDI_2019_2020/model_3/FT_Lm_SRCB/train_input_mean.npy  \n",
      "  inflating: ./trained_models/GLOBAL_GEDI_2019_2020/model_3/FT_Lm_SRCB/train_input_std.npy  \n",
      "  inflating: ./trained_models/GLOBAL_GEDI_2019_2020/model_3/FT_Lm_SRCB/train_target_mean.npy  \n",
      "  inflating: ./trained_models/GLOBAL_GEDI_2019_2020/model_3/FT_Lm_SRCB/train_target_std.npy  \n",
      "  inflating: ./trained_models/GLOBAL_GEDI_2019_2020/model_3/args.json  \n",
      "  inflating: ./trained_models/GLOBAL_GEDI_2019_2020/model_3/checkpoint.pt  \n",
      "  inflating: ./trained_models/GLOBAL_GEDI_2019_2020/model_3/train_input_mean.npy  \n",
      "  inflating: ./trained_models/GLOBAL_GEDI_2019_2020/model_3/train_input_std.npy  \n",
      "  inflating: ./trained_models/GLOBAL_GEDI_2019_2020/model_3/train_target_mean.npy  \n",
      "  inflating: ./trained_models/GLOBAL_GEDI_2019_2020/model_3/train_target_std.npy  \n",
      "   creating: ./trained_models/GLOBAL_GEDI_2019_2020/model_4/\n",
      "   creating: ./trained_models/GLOBAL_GEDI_2019_2020/model_4/FT_Lm_SRCB/\n",
      "  inflating: ./trained_models/GLOBAL_GEDI_2019_2020/model_4/FT_Lm_SRCB/args.json  \n",
      "  inflating: ./trained_models/GLOBAL_GEDI_2019_2020/model_4/FT_Lm_SRCB/checkpoint.pt  \n",
      "  inflating: ./trained_models/GLOBAL_GEDI_2019_2020/model_4/FT_Lm_SRCB/train_input_mean.npy  \n",
      "  inflating: ./trained_models/GLOBAL_GEDI_2019_2020/model_4/FT_Lm_SRCB/train_input_std.npy  \n",
      "  inflating: ./trained_models/GLOBAL_GEDI_2019_2020/model_4/FT_Lm_SRCB/train_target_mean.npy  \n",
      "  inflating: ./trained_models/GLOBAL_GEDI_2019_2020/model_4/FT_Lm_SRCB/train_target_std.npy  \n",
      "  inflating: ./trained_models/GLOBAL_GEDI_2019_2020/model_4/args.json  \n",
      "  inflating: ./trained_models/GLOBAL_GEDI_2019_2020/model_4/checkpoint.pt  \n",
      "  inflating: ./trained_models/GLOBAL_GEDI_2019_2020/model_4/train_input_mean.npy  \n",
      "  inflating: ./trained_models/GLOBAL_GEDI_2019_2020/model_4/train_input_std.npy  \n",
      "  inflating: ./trained_models/GLOBAL_GEDI_2019_2020/model_4/train_target_mean.npy  \n",
      "  inflating: ./trained_models/GLOBAL_GEDI_2019_2020/model_4/train_target_std.npy  \n",
      "Loading pretrained model weights from:\n",
      "./trained_models/GLOBAL_GEDI_2019_2020/model_0/FT_Lm_SRCB/checkpoint.pt\n"
     ]
    }
   ],
   "source": [
    "model = xceptionS2_08blocks_256(in_channels=15, out_channels=1, \n",
    "                                model_weights=\"GLOBAL_GEDI_MODEL_0\",\n",
    "                                returns=\"variances_exp\",\n",
    "                                download_dir=\"./trained_models\")\n"
   ]
  },
  {
   "cell_type": "markdown",
   "id": "6ab6534e",
   "metadata": {},
   "source": [
    "### Setting the path to a given checkpoint\n",
    "\n",
    "Note that the checkpoint file is expected to contain a dict with a key `\"model_state_dict\"` that is loaded.\n"
   ]
  },
  {
   "cell_type": "code",
   "execution_count": 5,
   "id": "bf4bf6ce",
   "metadata": {
    "scrolled": false
   },
   "outputs": [
    {
     "name": "stdout",
     "output_type": "stream",
     "text": [
      "Loading pretrained model weights from:\n",
      "./trained_models/GLOBAL_GEDI_2019_2020/model_1/FT_Lm_SRCB/checkpoint.pt\n"
     ]
    }
   ],
   "source": [
    "model_weights = \"./trained_models/GLOBAL_GEDI_2019_2020/model_1/FT_Lm_SRCB/checkpoint.pt\"\n",
    "\n",
    "model = xceptionS2_08blocks_256(in_channels=15, out_channels=1, \n",
    "                                model_weights=model_weights,\n",
    "                                returns=\"variances_exp\")\n"
   ]
  },
  {
   "cell_type": "code",
   "execution_count": null,
   "id": "88e38c68",
   "metadata": {},
   "outputs": [],
   "source": []
  }
 ],
 "metadata": {
  "kernelspec": {
   "display_name": "gchm",
   "language": "python",
   "name": "gchm"
  },
  "language_info": {
   "codemirror_mode": {
    "name": "ipython",
    "version": 3
   },
   "file_extension": ".py",
   "mimetype": "text/x-python",
   "name": "python",
   "nbconvert_exporter": "python",
   "pygments_lexer": "ipython3",
   "version": "3.10.9"
  }
 },
 "nbformat": 4,
 "nbformat_minor": 5
}
